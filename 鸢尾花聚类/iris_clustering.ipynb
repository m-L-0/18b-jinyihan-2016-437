{
 "cells": [
  {
   "cell_type": "code",
   "execution_count": 163,
   "metadata": {},
   "outputs": [],
   "source": [
    "import numpy as np\n",
    "import matplotlib.pyplot as plt\n",
    "from sklearn import datasets\n",
    "iris = datasets.load_iris()\n",
    "from sklearn.cluster import SpectralClustering as SC\n",
    "from mpl_toolkits.mplot3d import Axes3D\n",
    "from sklearn.metrics.pairwise import pairwise_distances\n",
    "from sklearn import preprocessing\n",
    "# %matplotlib notebook\n",
    "import networkx as nx\n",
    "from numpy import *\n",
    "import random"
   ]
  },
  {
   "cell_type": "code",
   "execution_count": 164,
   "metadata": {},
   "outputs": [],
   "source": [
    "X = iris.data\n",
    "y = iris.target"
   ]
  },
  {
   "cell_type": "code",
   "execution_count": 165,
   "metadata": {},
   "outputs": [],
   "source": [
    "X = X.tolist()"
   ]
  },
  {
   "cell_type": "markdown",
   "metadata": {},
   "source": [
    "# Shuffle Dataset"
   ]
  },
  {
   "cell_type": "code",
   "execution_count": 166,
   "metadata": {},
   "outputs": [],
   "source": [
    "node = []\n",
    "for i in range(150):\n",
    "    node.append(i)\n",
    "random.shuffle(node)"
   ]
  },
  {
   "cell_type": "code",
   "execution_count": 167,
   "metadata": {},
   "outputs": [],
   "source": [
    "for i in range(len(node)):\n",
    "    for j in range(len(node)):\n",
    "        if node[i]<node[j]:\n",
    "            temp = X[i]\n",
    "            X[i] = X[j]\n",
    "            X[j] = temp\n",
    "            temp2 =  y[i]\n",
    "            y[i] = y[j]\n",
    "            y[j] = temp2\n",
    "            temp3 = node[i]\n",
    "            node[i] = node[j]\n",
    "            node[j] = temp3"
   ]
  },
  {
   "cell_type": "markdown",
   "metadata": {},
   "source": [
    "# Distance Matrix"
   ]
  },
  {
   "cell_type": "code",
   "execution_count": 168,
   "metadata": {},
   "outputs": [],
   "source": [
    "def euclidDistance(x1, x2, sqrt_flag=False):\n",
    "    res = np.sum((x1-x2)**2)\n",
    "    if sqrt_flag:\n",
    "        res = np.sqrt(res)\n",
    "    return res\n",
    "def calEuclidDistanceMatrix(X):\n",
    "    X = np.array(X)\n",
    "    S = np.zeros((len(X), len(X)))\n",
    "    for i in range(len(X)):\n",
    "        for j in range(i+1, len(X)):\n",
    "            S[i][j] = 1.0 * euclidDistance(X[i], X[j])\n",
    "            S[j][i] = S[i][j]\n",
    "    return S"
   ]
  },
  {
   "cell_type": "code",
   "execution_count": 169,
   "metadata": {},
   "outputs": [],
   "source": [
    "dis = calEuclidDistanceMatrix(X)"
   ]
  },
  {
   "cell_type": "markdown",
   "metadata": {},
   "source": [
    "# Normalize"
   ]
  },
  {
   "cell_type": "code",
   "execution_count": 170,
   "metadata": {},
   "outputs": [],
   "source": [
    "def normalization(w_AM):\n",
    "    norm_w_AM = np.zeros((len(w_AM), len(w_AM[0])))\n",
    "    norm_w_AM = norm_w_AM.tolist()\n",
    "    w_AM_sum = []\n",
    "    for i in range(len(w_AM[0])):\n",
    "        w_AM_sum.append(sum(w_AM[:,i]))\n",
    "    for i in range(len(w_AM)):\n",
    "        for j in range(len(w_AM[0])):\n",
    "            norm_w_AM[i][j] = w_AM[i][j]/w_AM_sum[j]\n",
    "    norm_w_AM = np.array(norm_w_AM)\n",
    "    return norm_w_AM"
   ]
  },
  {
   "cell_type": "code",
   "execution_count": 171,
   "metadata": {},
   "outputs": [],
   "source": [
    "norm_dis = normalization(dis)"
   ]
  },
  {
   "cell_type": "markdown",
   "metadata": {},
   "source": [
    "# Gaussian Kernal --> Similarity Matrix"
   ]
  },
  {
   "cell_type": "code",
   "execution_count": 172,
   "metadata": {},
   "outputs": [],
   "source": [
    "sim = np.zeros((150,150))\n",
    "sim = sim.tolist()\n",
    "sigma = 2\n",
    "for i in range(len(dis)):\n",
    "    for j in range(len(dis)):\n",
    "        sim[i][j] = np.exp(-(dis[i][j]**2)/(2*(sigma**2)))"
   ]
  },
  {
   "cell_type": "markdown",
   "metadata": {},
   "source": [
    "# draw with similarity"
   ]
  },
  {
   "cell_type": "code",
   "execution_count": 173,
   "metadata": {},
   "outputs": [],
   "source": [
    "G = nx.Graph()"
   ]
  },
  {
   "cell_type": "code",
   "execution_count": 174,
   "metadata": {},
   "outputs": [],
   "source": [
    "for i in range(len(X)):\n",
    "    for j in range(i+1, len(X)):\n",
    "        if sim[i][j] > 0.9:\n",
    "            G.add_edge(i, j)"
   ]
  },
  {
   "cell_type": "code",
   "execution_count": 175,
   "metadata": {},
   "outputs": [
    {
     "data": {
      "image/png": "[encoded data removed]",
      "text/plain": [
       "<matplotlib.figure.Figure at 0x26926ee75c0>"
      ]
     },
     "metadata": {},
     "output_type": "display_data"
    }
   ],
   "source": [
    "nx.draw(G,node_size = 16,)\n",
    "plt.show()"
   ]
  },
  {
   "cell_type": "markdown",
   "metadata": {},
   "source": [
    "# Adjacency Matrix and  with weight"
   ]
  },
  {
   "cell_type": "code",
   "execution_count": 176,
   "metadata": {},
   "outputs": [],
   "source": [
    "AM = np.zeros((150,150))\n",
    "w_AM = np.zeros((150,150))\n",
    "AM = AM.tolist()\n",
    "w_AM = w_AM.tolist()\n",
    "for i in range(len(X)):\n",
    "    for j in range(len(X)):\n",
    "        if sim[i][j] > 0.9:\n",
    "            AM[i][j] = 1\n",
    "            w_AM[i][j] = sim[i][j]  #通过相似度得到带权邻接矩阵\n",
    "        else:\n",
    "            AM[i][j] = 0\n",
    "            w_AM[i][j] = 0"
   ]
  },
  {
   "cell_type": "markdown",
   "metadata": {},
   "source": [
    "# Degree Matrix"
   ]
  },
  {
   "cell_type": "code",
   "execution_count": 177,
   "metadata": {},
   "outputs": [],
   "source": [
    "degree_matrix = np.zeros((150,150))\n",
    "degree_matrix = degree_matrix.tolist()\n",
    "for i in range(len(X)):\n",
    "    for j in range(len(X)):\n",
    "        if sim[i][j] > 0.9:\n",
    "            degree_matrix[i][i]+=1"
   ]
  },
  {
   "cell_type": "markdown",
   "metadata": {},
   "source": [
    "# Laplacian Matrices"
   ]
  },
  {
   "cell_type": "code",
   "execution_count": 178,
   "metadata": {},
   "outputs": [],
   "source": [
    "L = np.zeros((150,150))\n",
    "for i in range(len(L)):\n",
    "    for j in range(len(L[0])):\n",
    "        L[i][j] = degree_matrix[i][j] - w_AM[i][j]"
   ]
  },
  {
   "cell_type": "code",
   "execution_count": 179,
   "metadata": {},
   "outputs": [],
   "source": [
    "from numpy.linalg import  *"
   ]
  },
  {
   "cell_type": "code",
   "execution_count": 180,
   "metadata": {},
   "outputs": [],
   "source": [
    "eigenValue= eig(L)[0]\n",
    "eigenVector = eig(L)[1]"
   ]
  },
  {
   "cell_type": "code",
   "execution_count": 181,
   "metadata": {},
   "outputs": [
    {
     "data": {
      "text/plain": [
       "150"
      ]
     },
     "execution_count": 181,
     "metadata": {},
     "output_type": "execute_result"
    }
   ],
   "source": [
    "len(eigenValue)\n",
    "# eigenVector"
   ]
  },
  {
   "cell_type": "code",
   "execution_count": 182,
   "metadata": {},
   "outputs": [],
   "source": [
    "#排序，取前50个最小的特征向量\n",
    "for i in range(len(X)):\n",
    "    for j in range(len(eigenVector[0])):\n",
    "        for k in range(len(eigenVector[0])):\n",
    "            if eigenVector[i][j] < eigenVector[i][k]:\n",
    "                temp = eigenVector[i][j]\n",
    "                eigenVector[i][j] = eigenVector[i][k]\n",
    "                eigenVector[i][k] = temp"
   ]
  },
  {
   "cell_type": "code",
   "execution_count": 183,
   "metadata": {},
   "outputs": [],
   "source": [
    "# eigenVector[0]"
   ]
  },
  {
   "cell_type": "code",
   "execution_count": 184,
   "metadata": {},
   "outputs": [],
   "source": [
    "new_eigenVector = np.zeros((150,50))\n",
    "new_eigenVector = new_eigenVector.tolist()"
   ]
  },
  {
   "cell_type": "code",
   "execution_count": 185,
   "metadata": {},
   "outputs": [],
   "source": [
    "for i in range(len(new_eigenVector)):\n",
    "    for j in range(len(new_eigenVector[0])):\n",
    "        new_eigenVector[i][j] = eigenVector[i][j]\n",
    "new_eigenVector = np.array(new_eigenVector)"
   ]
  },
  {
   "cell_type": "code",
   "execution_count": 186,
   "metadata": {},
   "outputs": [],
   "source": [
    "Y = new_eigenVector"
   ]
  },
  {
   "cell_type": "code",
   "execution_count": 187,
   "metadata": {},
   "outputs": [],
   "source": [
    "Y = normalization(Y)"
   ]
  },
  {
   "cell_type": "markdown",
   "metadata": {},
   "source": [
    "# Clustering with K-means"
   ]
  },
  {
   "cell_type": "code",
   "execution_count": 188,
   "metadata": {},
   "outputs": [],
   "source": [
    "#随机生成初始的质心（ng的课说的初始方式是随机选K个点）    \n",
    "def randCent(dataSet, k):\n",
    "    n = dataSet.shape[1]\n",
    "    centroids = mat(zeros((k,n)))\n",
    "    for j in range(n):\n",
    "        minJ = min(dataSet[:,j])\n",
    "        rangeJ = float(max(array(dataSet)[:,j]) - minJ)\n",
    "        centroids[:,j] = minJ + rangeJ * np.random.rand(k,1)\n",
    "    return centroids"
   ]
  },
  {
   "cell_type": "code",
   "execution_count": 189,
   "metadata": {},
   "outputs": [],
   "source": [
    "def kMeans(dataSet, k, distMeas=dis, createCent=randCent):\n",
    "    m = dataSet.shape[0]\n",
    "    clusterAssment = mat(zeros((m,2)))#create mat to assign data points \n",
    "                                      #to a centroid, also holds SE of each point\n",
    "    centroids = createCent(dataSet, k)\n",
    "    clusterChanged = True\n",
    "    while clusterChanged:\n",
    "        clusterChanged = False\n",
    "        for i in range(m):#for each data point assign it to the closest centroid\n",
    "            minDist = inf\n",
    "            minIndex = -1\n",
    "            for j in range(k): #找到最近邻\n",
    "                distJI = dis[j][i]\n",
    "                if distJI < minDist:\n",
    "                    minDist = distJI\n",
    "                    minIndex = j\n",
    "            if clusterAssment[i,0] != minIndex: \n",
    "                clusterChanged = True\n",
    "            clusterAssment[i,:] = minIndex,minDist**2\n",
    "#         print(centroids)\n",
    "        for cent in range(k):#recalculate centroids\n",
    "            ptsInClust = dataSet[nonzero(clusterAssment[:,0].A==cent)[0]]#get all the point in this cluster\n",
    "            centroids[cent,:] = mean(ptsInClust, axis=0) #assign centroid to mean \n",
    "    return centroids, clusterAssment"
   ]
  },
  {
   "cell_type": "code",
   "execution_count": 190,
   "metadata": {
    "scrolled": true
   },
   "outputs": [],
   "source": [
    "myCentroids, clustAssing= kMeans(Y,3)"
   ]
  },
  {
   "cell_type": "code",
   "execution_count": 191,
   "metadata": {},
   "outputs": [],
   "source": [
    "clustAssing = np.array(clustAssing)"
   ]
  },
  {
   "cell_type": "code",
   "execution_count": 192,
   "metadata": {},
   "outputs": [
    {
     "data": {
      "text/plain": [
       "150"
      ]
     },
     "execution_count": 192,
     "metadata": {},
     "output_type": "execute_result"
    }
   ],
   "source": [
    "len(clustAssing)"
   ]
  },
  {
   "cell_type": "markdown",
   "metadata": {},
   "source": [
    "# Arrange and Draw"
   ]
  },
  {
   "cell_type": "code",
   "execution_count": 193,
   "metadata": {
    "scrolled": false
   },
   "outputs": [],
   "source": [
    "clus1 = []\n",
    "clus2 = []\n",
    "clus3 = []\n",
    "for i in range(len(X)):\n",
    "    if clustAssing[i][0]==0:\n",
    "        clus1.append(i)\n",
    "        continue\n",
    "    if clustAssing[i][0]==1:\n",
    "        clus2.append(i)\n",
    "        continue\n",
    "    if clustAssing[i][0]==2:\n",
    "        clus3.append(i)"
   ]
  },
  {
   "cell_type": "code",
   "execution_count": 194,
   "metadata": {},
   "outputs": [
    {
     "data": {
      "image/png": "[encoded data removed]",
      "text/plain": [
       "<matplotlib.figure.Figure at 0x26927535c18>"
      ]
     },
     "metadata": {},
     "output_type": "display_data"
    }
   ],
   "source": [
    "for i in clus1:\n",
    "    for j in clus1:\n",
    "        if i==j:\n",
    "            continue\n",
    "        G.add_edge(i, j)\n",
    "# nx.draw(G,node_size = 16, node_shape='o', node_color='blue')\n",
    "for i in clus2:\n",
    "    for j in clus2:\n",
    "        if i==j:\n",
    "            continue\n",
    "        G.add_edge(i, j, shape = 's')\n",
    "# nx.draw(G,node_size = 16, node_shape='s', node_color='red')\n",
    "for i in clus3:\n",
    "    for j in clus3:\n",
    "        if i==j:\n",
    "            continue\n",
    "        G.add_edge(i, j)\n",
    "nx.draw(G,node_size = 10, linewidths=0.1, edge_color='gray')"
   ]
  },
  {
   "cell_type": "code",
   "execution_count": 195,
   "metadata": {},
   "outputs": [
    {
     "name": "stdout",
     "output_type": "stream",
     "text": [
      "51\n",
      "51\n",
      "48\n"
     ]
    }
   ],
   "source": [
    "print(len(clus1))\n",
    "print(len(clus2))\n",
    "print(len(clus3))"
   ]
  },
  {
   "cell_type": "code",
   "execution_count": 204,
   "metadata": {},
   "outputs": [],
   "source": [
    "pre = []\n",
    "for i in range(len(clustAssing)):\n",
    "    if clustAssing[i][0] == 1:\n",
    "        pre.append(0)\n",
    "    elif clustAssing[i][0] == 0:\n",
    "        pre.append(1)\n",
    "    elif clustAssing[i][0] == 2:\n",
    "        pre.append(2)"
   ]
  },
  {
   "cell_type": "code",
   "execution_count": 205,
   "metadata": {},
   "outputs": [
    {
     "name": "stdout",
     "output_type": "stream",
     "text": [
      "0.9666666666666667\n"
     ]
    }
   ],
   "source": [
    "acc = 0\n",
    "for i in range(len(X)):\n",
    "    if pre[i] == y[i]:\n",
    "        acc += 1\n",
    "acc = acc/len(X)\n",
    "print(acc)"
   ]
  },
  {
   "cell_type": "code",
   "execution_count": 198,
   "metadata": {},
   "outputs": [],
   "source": [
    "# clustAssing"
   ]
  },
  {
   "cell_type": "code",
   "execution_count": null,
   "metadata": {},
   "outputs": [],
   "source": []
  },
  {
   "cell_type": "code",
   "execution_count": null,
   "metadata": {},
   "outputs": [],
   "source": []
  }
 ],
 "metadata": {
  "kernelspec": {
   "display_name": "Python 3",
   "language": "python",
   "name": "python3"
  },
  "language_info": {
   "codemirror_mode": {
    "name": "ipython",
    "version": 3
   },
   "file_extension": ".py",
   "mimetype": "text/x-python",
   "name": "python",
   "nbconvert_exporter": "python",
   "pygments_lexer": "ipython3",
   "version": "3.6.4"
  }
 },
 "nbformat": 4,
 "nbformat_minor": 2
}
