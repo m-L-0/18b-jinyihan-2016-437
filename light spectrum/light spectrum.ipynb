{
 "cells": [
  {
   "cell_type": "code",
   "execution_count": 1,
   "metadata": {},
   "outputs": [],
   "source": [
    "import matplotlib.pyplot as plt  \n",
    "import numpy as np\n",
    "from scipy.io import loadmat\n",
    "# import spectral\n",
    "import pandas as pd"
   ]
  },
  {
   "cell_type": "code",
   "execution_count": 2,
   "metadata": {},
   "outputs": [],
   "source": [
    "import xgboost as xgb\n",
    "from xgboost.sklearn import XGBClassifier"
   ]
  },
  {
   "cell_type": "code",
   "execution_count": 3,
   "metadata": {},
   "outputs": [],
   "source": [
    "data0 = loadmat('F://2018-2019/first/light_spectrum_analysis/trainset/data2_train.mat')  # 读取mat文件\n",
    "data1 = loadmat('F://2018-2019/first/light_spectrum_analysis/trainset/data3_train.mat')  # 读取mat文件\n",
    "data2 = loadmat('F://2018-2019/first/light_spectrum_analysis/trainset/data5_train.mat')  # 读取mat文件\n",
    "data3 = loadmat('F://2018-2019/first/light_spectrum_analysis/trainset/data6_train.mat')  # 读取mat文件\n",
    "data4 = loadmat('F://2018-2019/first/light_spectrum_analysis/trainset/data8_train.mat')  # 读取mat文件\n",
    "data5 = loadmat('F://2018-2019/first/light_spectrum_analysis/trainset/data10_train.mat')  # 读取mat文件\n",
    "data6 = loadmat('F://2018-2019/first/light_spectrum_analysis/trainset/data11_train.mat')  # 读取mat文件\n",
    "data7 = loadmat('F://2018-2019/first/light_spectrum_analysis/trainset/data12_train.mat')  # 读取mat文件\n",
    "data8 = loadmat('F://2018-2019/first/light_spectrum_analysis/trainset/data14_train.mat')  # 读取mat文件"
   ]
  },
  {
   "cell_type": "code",
   "execution_count": 4,
   "metadata": {},
   "outputs": [],
   "source": [
    "sample0 = data0['data2_train']"
   ]
  },
  {
   "cell_type": "code",
   "execution_count": 5,
   "metadata": {},
   "outputs": [],
   "source": [
    "sample1 = data1['data3_train']"
   ]
  },
  {
   "cell_type": "code",
   "execution_count": 6,
   "metadata": {},
   "outputs": [],
   "source": [
    "sample2 = data2['data5_train']"
   ]
  },
  {
   "cell_type": "code",
   "execution_count": 7,
   "metadata": {},
   "outputs": [],
   "source": [
    "sample3 = data3['data6_train']"
   ]
  },
  {
   "cell_type": "code",
   "execution_count": 8,
   "metadata": {},
   "outputs": [],
   "source": [
    "sample4 = data4['data8_train']"
   ]
  },
  {
   "cell_type": "code",
   "execution_count": 9,
   "metadata": {},
   "outputs": [],
   "source": [
    "sample5 = data5['data10_train']"
   ]
  },
  {
   "cell_type": "code",
   "execution_count": 10,
   "metadata": {},
   "outputs": [],
   "source": [
    "sample6 = data6['data11_train']"
   ]
  },
  {
   "cell_type": "code",
   "execution_count": 11,
   "metadata": {},
   "outputs": [],
   "source": [
    "sample7 = data7['data12_train']"
   ]
  },
  {
   "cell_type": "code",
   "execution_count": 12,
   "metadata": {},
   "outputs": [],
   "source": [
    "sample8 = data8['data14_train']"
   ]
  },
  {
   "cell_type": "code",
   "execution_count": 13,
   "metadata": {},
   "outputs": [],
   "source": [
    "dataset_x = np.vstack((sample0,sample1,sample2,sample3,sample4,sample5,sample6,sample7,sample8))"
   ]
  },
  {
   "cell_type": "code",
   "execution_count": 14,
   "metadata": {},
   "outputs": [],
   "source": [
    "y_train = []\n",
    "for i in range(len(dataset_x)):\n",
    "    if i <len(sample0):\n",
    "        y_train.append(2)\n",
    "    elif i < len(sample0)+len(sample1):\n",
    "        y_train.append(3)\n",
    "    elif i < len(sample0)+len(sample1)+len(sample2):\n",
    "        y_train.append(5)\n",
    "    elif i < len(sample0)+len(sample1)+len(sample2)+len(sample3):\n",
    "        y_train.append(6)\n",
    "    elif i < len(sample0)+len(sample1)+len(sample2)+len(sample3)+len(sample4):\n",
    "        y_train.append(8)\n",
    "    elif i < len(sample0)+len(sample1)+len(sample2)+len(sample3)+len(sample4)+len(sample5):\n",
    "        y_train.append(10)\n",
    "    elif i < len(sample0)+len(sample1)+len(sample2)+len(sample3)+len(sample4)+len(sample5)+len(sample6):\n",
    "        y_train.append(11)\n",
    "    elif i < len(sample0)+len(sample1)+len(sample2)+len(sample3)+len(sample4)+len(sample5)+len(sample6)+len(sample7):\n",
    "        y_train.append(12)\n",
    "    elif i < len(sample0)+len(sample1)+len(sample2)+len(sample3)+len(sample4)+len(sample5)+len(sample6)+len(sample7)+len(sample8):\n",
    "        y_train.append(14)"
   ]
  },
  {
   "cell_type": "code",
   "execution_count": 15,
   "metadata": {
    "scrolled": true
   },
   "outputs": [],
   "source": [
    "dataset_y = y_train"
   ]
  },
  {
   "cell_type": "code",
   "execution_count": 16,
   "metadata": {},
   "outputs": [],
   "source": [
    "# from sklearn import model_selection"
   ]
  },
  {
   "cell_type": "code",
   "execution_count": 17,
   "metadata": {},
   "outputs": [],
   "source": [
    "# X_train, X_test, y_train, y_test = model_selection.train_test_split(\n",
    "#     dataset_x, dataset_y, test_size=0.2, shuffle=True)"
   ]
  },
  {
   "cell_type": "code",
   "execution_count": 18,
   "metadata": {},
   "outputs": [],
   "source": [
    "# xgboost = xgb.XGBClassifier(nthread=3, learning_rate=0.25,\\\n",
    "#                                     n_estimators=50, max_depth=7, gamma=0.2, \\\n",
    "#                                     subsample=0.7, colsample_bytree=0.6)\n",
    "# xgboost.fit(X_train, y_train)\n",
    "# result = xgboost.predict(X_test)\n",
    "# sum = len(result)\n",
    "# right = 0\n",
    "# for i in range(len(result)):\n",
    "#     if result[i] == y_test[i]:\n",
    "#         right += 1\n",
    "# acc = right/sum\n",
    "# print(\"准确率：\")\n",
    "# print(acc)"
   ]
  },
  {
   "cell_type": "code",
   "execution_count": 19,
   "metadata": {},
   "outputs": [],
   "source": [
    "X_train = dataset_x"
   ]
  },
  {
   "cell_type": "code",
   "execution_count": 20,
   "metadata": {},
   "outputs": [],
   "source": [
    "X_test = loadmat('F://2018-2019/first/light_spectrum_analysis/data_test_final.mat') "
   ]
  },
  {
   "cell_type": "code",
   "execution_count": 22,
   "metadata": {},
   "outputs": [],
   "source": [
    "X_test = X_test['data_test_final']"
   ]
  },
  {
   "cell_type": "code",
   "execution_count": 28,
   "metadata": {},
   "outputs": [
    {
     "name": "stderr",
     "output_type": "stream",
     "text": [
      "E:\\anaconda\\lib\\site-packages\\sklearn\\preprocessing\\label.py:151: DeprecationWarning: The truth value of an empty array is ambiguous. Returning False, but in future this will result in an error. Use `array.size > 0` to check that an array is not empty.\n",
      "  if diff:\n"
     ]
    }
   ],
   "source": [
    "xgboost = xgb.XGBClassifier(nthread=3, learning_rate=0.25,\\\n",
    "                                    n_estimators=50, max_depth=7, gamma=0.2, \\\n",
    "                                    subsample=0.7, colsample_bytree=0.6)\n",
    "xgboost.fit(X_train, y_train)\n",
    "result = xgboost.predict(X_test)"
   ]
  },
  {
   "cell_type": "code",
   "execution_count": 29,
   "metadata": {},
   "outputs": [],
   "source": [
    "numId = []\n",
    "for i in range(len(result)):\n",
    "    numId.append(i)"
   ]
  },
  {
   "cell_type": "code",
   "execution_count": 31,
   "metadata": {},
   "outputs": [],
   "source": [
    "dataframe = pd.DataFrame({'id':numId,'y':result})\n",
    "dataframe.to_csv(\"F://2018-2019/first/light_spectrum_analysis/y_test.csv\",index=False,sep=',')"
   ]
  },
  {
   "cell_type": "code",
   "execution_count": null,
   "metadata": {},
   "outputs": [],
   "source": []
  }
 ],
 "metadata": {
  "kernelspec": {
   "display_name": "Python 3",
   "language": "python",
   "name": "python3"
  },
  "language_info": {
   "codemirror_mode": {
    "name": "ipython",
    "version": 3
   },
   "file_extension": ".py",
   "mimetype": "text/x-python",
   "name": "python",
   "nbconvert_exporter": "python",
   "pygments_lexer": "ipython3",
   "version": "3.6.4"
  }
 },
 "nbformat": 4,
 "nbformat_minor": 2
}
