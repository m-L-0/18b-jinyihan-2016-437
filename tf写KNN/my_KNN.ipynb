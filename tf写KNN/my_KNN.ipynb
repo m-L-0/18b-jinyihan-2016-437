{
 "cells": [
  {
   "cell_type": "code",
   "execution_count": 50,
   "metadata": {},
   "outputs": [],
   "source": [
    "import numpy as np\n",
    "import tensorflow as tf\n",
    "from sklearn import model_selection\n",
    "from sklearn import datasets\n",
    "iris = datasets.load_iris()\n",
    "import random"
   ]
  },
  {
   "cell_type": "code",
   "execution_count": 51,
   "metadata": {},
   "outputs": [],
   "source": [
    "X = iris.data\n",
    "y = iris.target"
   ]
  },
  {
   "cell_type": "code",
   "execution_count": 52,
   "metadata": {},
   "outputs": [],
   "source": [
    "X = X.tolist()"
   ]
  },
  {
   "cell_type": "markdown",
   "metadata": {},
   "source": [
    "# shuffle datasets"
   ]
  },
  {
   "cell_type": "code",
   "execution_count": 53,
   "metadata": {},
   "outputs": [],
   "source": [
    "node = []\n",
    "for i in range(150):\n",
    "    node.append(i)\n",
    "random.shuffle(node)"
   ]
  },
  {
   "cell_type": "code",
   "execution_count": 54,
   "metadata": {},
   "outputs": [],
   "source": [
    "for i in range(len(node)):\n",
    "    for j in range(len(node)):\n",
    "        if node[i]<node[j]:\n",
    "            temp = X[i]\n",
    "            X[i] = X[j]\n",
    "            X[j] = temp\n",
    "            temp2 =  y[i]\n",
    "            y[i] = y[j]\n",
    "            y[j] = temp2\n",
    "            temp3 = node[i]\n",
    "            node[i] = node[j]\n",
    "            node[j] = temp3"
   ]
  },
  {
   "cell_type": "code",
   "execution_count": 55,
   "metadata": {},
   "outputs": [],
   "source": [
    "X = np.array(X)"
   ]
  },
  {
   "cell_type": "markdown",
   "metadata": {},
   "source": [
    "# divide datasets"
   ]
  },
  {
   "cell_type": "code",
   "execution_count": 56,
   "metadata": {},
   "outputs": [],
   "source": [
    "X_train, X_test, y_train, y_test = model_selection.train_test_split(\n",
    "    X, y, test_size=0.2, shuffle=True)"
   ]
  },
  {
   "cell_type": "code",
   "execution_count": 57,
   "metadata": {},
   "outputs": [],
   "source": [
    "# 输入占位符\n",
    "xtr = tf.placeholder(\"float\", [None, 4])\n",
    "xte = tf.placeholder(\"float\", [4])"
   ]
  },
  {
   "cell_type": "code",
   "execution_count": 58,
   "metadata": {},
   "outputs": [],
   "source": [
    "# 计算L1距离\n",
    "distance = tf.reduce_sum(tf.abs(tf.add(xtr, tf.negative(xte))), reduction_indices=1)\n",
    "# 获取最小距离的索引\n",
    "pred = tf.argmin(distance, 0)"
   ]
  },
  {
   "cell_type": "code",
   "execution_count": 59,
   "metadata": {},
   "outputs": [],
   "source": [
    "#K值\n",
    "EPOCH = 40"
   ]
  },
  {
   "cell_type": "code",
   "execution_count": 60,
   "metadata": {},
   "outputs": [
    {
     "name": "stdout",
     "output_type": "stream",
     "text": [
      "Done!\n",
      "Accuracy: 0.8\n"
     ]
    }
   ],
   "source": [
    "# 运行会话，训练模型\n",
    "with tf.Session() as sess:\n",
    "\n",
    "    # 运行初始化\n",
    "    sess.run(init)\n",
    "\n",
    "    # 遍历测试数据\n",
    "    for i in range(len(X_test)):\n",
    "        #--------------------数据处理ing----------------------\n",
    "        #距离列表\n",
    "        nodelist = sess.run(distance,feed_dict={xtr: X_train, xte: X_test[i, :]})\n",
    "#         print(nodelist)\n",
    "        node = []\n",
    "        for j in range(len(nodelist)):\n",
    "            node.append(j)\n",
    "        #距离排序\n",
    "        for k in range(len(node)):\n",
    "            for l in range(len(node)):\n",
    "                if nodelist[k]>nodelist[l]:\n",
    "                    temp = node[k]\n",
    "                    node[k] = node[l]\n",
    "                    node[l] = temp\n",
    "#         print(node)\n",
    "        res0 = 0\n",
    "        res1 = 0\n",
    "        res2 = 0\n",
    "        for m in range(EPOCH):\n",
    "            if y_train[node[m]] == 0:\n",
    "                res0 += 1\n",
    "            elif y_train[node[m]] == 1:\n",
    "                res1 += 1\n",
    "            elif y_train[node[m]] == 2:\n",
    "                res2 += 1\n",
    "#         print('000',res0,\"111\",res1,'222',res2)    \n",
    "        result = 0\n",
    "        maxres = 0\n",
    "        if res0 > res1:\n",
    "            result = 0\n",
    "            maxres = res0\n",
    "        else:\n",
    "            result = 1\n",
    "            maxres = res1\n",
    "        if  maxres < res2:\n",
    "            result = 2\n",
    "        #---------------------------------------------------\n",
    "        # 获取当前样本的最近邻索引\n",
    "#         nn_index = sess.run(pred, feed_dict={xtr: X_train, xte: X_test[i, :]})   #向占位符传入训练数据\n",
    "        # 最近邻分类标签与真实标签比较\n",
    "#         print(\"Test\", i, \"Prediction:\", result,\"True Class:\", y_test[i])\n",
    "        # 计算精确度\n",
    "        if result == y_test[i]:\n",
    "            accuracy += 1.\n",
    "    accuracy /= len(X_test)\n",
    "    print(\"Done!\")\n",
    "    print(\"Accuracy:\", accuracy)"
   ]
  },
  {
   "cell_type": "code",
   "execution_count": null,
   "metadata": {},
   "outputs": [],
   "source": []
  },
  {
   "cell_type": "code",
   "execution_count": null,
   "metadata": {},
   "outputs": [],
   "source": []
  }
 ],
 "metadata": {
  "kernelspec": {
   "display_name": "Python 3",
   "language": "python",
   "name": "python3"
  },
  "language_info": {
   "codemirror_mode": {
    "name": "ipython",
    "version": 3
   },
   "file_extension": ".py",
   "mimetype": "text/x-python",
   "name": "python",
   "nbconvert_exporter": "python",
   "pygments_lexer": "ipython3",
   "version": "3.6.4"
  }
 },
 "nbformat": 4,
 "nbformat_minor": 2
}
